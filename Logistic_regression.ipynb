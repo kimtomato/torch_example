{
  "nbformat": 4,
  "nbformat_minor": 0,
  "metadata": {
    "colab": {
      "provenance": [],
      "authorship_tag": "ABX9TyNb/X1ojacmTg9VtEB/a3tu",
      "include_colab_link": true
    },
    "kernelspec": {
      "name": "python3",
      "display_name": "Python 3"
    },
    "language_info": {
      "name": "python"
    }
  },
  "cells": [
    {
      "cell_type": "markdown",
      "metadata": {
        "id": "view-in-github",
        "colab_type": "text"
      },
      "source": [
        "<a href=\"https://colab.research.google.com/github/kimtomato/torch_example/blob/main/Logistic_regression.ipynb\" target=\"_parent\"><img src=\"https://colab.research.google.com/assets/colab-badge.svg\" alt=\"Open In Colab\"/></a>"
      ]
    },
    {
      "cell_type": "code",
      "execution_count": 1,
      "metadata": {
        "colab": {
          "base_uri": "https://localhost:8080/"
        },
        "id": "VKIHo3SW9-Up",
        "outputId": "5edf598c-0c50-4739-e50f-c8265af50fcd"
      },
      "outputs": [
        {
          "output_type": "execute_result",
          "data": {
            "text/plain": [
              "<torch._C.Generator at 0x7f199821c2b0>"
            ]
          },
          "metadata": {},
          "execution_count": 1
        }
      ],
      "source": [
        "import torch \n",
        "import torch.nn as nn\n",
        "import torch.nn.functional as F\n",
        "import torch.optim as optim\n",
        "\n",
        "torch.manual_seed(1)"
      ]
    },
    {
      "cell_type": "code",
      "source": [
        "x_data = [[1, 2], [2, 3], [3, 1], [4, 3], [5, 3], [6, 2]]\n",
        "y_data = [[0], [0], [0], [1], [1], [1]]\n",
        "x_train = torch.FloatTensor(x_data)\n",
        "y_train = torch.FloatTensor(y_data)"
      ],
      "metadata": {
        "id": "kLVaFPuMBpKj"
      },
      "execution_count": 2,
      "outputs": []
    },
    {
      "cell_type": "code",
      "source": [
        "     W = torch.zeros((2,1), requires_grad=True)\n",
        "     b = torch.zeros(1, requires_grad=True)"
      ],
      "metadata": {
        "id": "hLGO-6UqBqrU"
      },
      "execution_count": 3,
      "outputs": []
    },
    {
      "cell_type": "code",
      "source": [
        "h= 1/(1+torch.exp(-(x_train.matmul(W)+b)))\n",
        "\n",
        "h= torch.sigmoid(x_train.matmul(W)+b)\n",
        "\n",
        "print(h)\n",
        "print(y_train)"
      ],
      "metadata": {
        "colab": {
          "base_uri": "https://localhost:8080/"
        },
        "id": "cyTZBhRzB81Y",
        "outputId": "733a9be9-ca8b-4084-afa3-229221663087"
      },
      "execution_count": 6,
      "outputs": [
        {
          "output_type": "stream",
          "name": "stdout",
          "text": [
            "tensor([[0.5000],\n",
            "        [0.5000],\n",
            "        [0.5000],\n",
            "        [0.5000],\n",
            "        [0.5000],\n",
            "        [0.5000]], grad_fn=<SigmoidBackward0>)\n",
            "tensor([[0.],\n",
            "        [0.],\n",
            "        [0.],\n",
            "        [1.],\n",
            "        [1.],\n",
            "        [1.]])\n"
          ]
        }
      ]
    },
    {
      "cell_type": "code",
      "source": [
        "losses = -(y_train*torch.log(h) + (1-y_train)*torch.log(1-h))\n",
        "\n",
        "print(losses)"
      ],
      "metadata": {
        "colab": {
          "base_uri": "https://localhost:8080/"
        },
        "id": "E6Nb7vMwCUcF",
        "outputId": "4d81c5d9-b133-4ea6-ceb9-0fdcd306136f"
      },
      "execution_count": 7,
      "outputs": [
        {
          "output_type": "stream",
          "name": "stdout",
          "text": [
            "tensor([[0.6931],\n",
            "        [0.6931],\n",
            "        [0.6931],\n",
            "        [0.6931],\n",
            "        [0.6931],\n",
            "        [0.6931]], grad_fn=<NegBackward0>)\n"
          ]
        }
      ]
    },
    {
      "cell_type": "code",
      "source": [
        "cost = losses.mean()"
      ],
      "metadata": {
        "id": "EdS4RHnsC5Wd"
      },
      "execution_count": 8,
      "outputs": []
    },
    {
      "cell_type": "code",
      "source": [
        "F.binary_cross_entropy(h, y_train)"
      ],
      "metadata": {
        "colab": {
          "base_uri": "https://localhost:8080/"
        },
        "id": "mQk9ftzEC8Hi",
        "outputId": "bd55b1bd-6f3a-4634-f29a-7283a92150fe"
      },
      "execution_count": 9,
      "outputs": [
        {
          "output_type": "execute_result",
          "data": {
            "text/plain": [
              "tensor(0.6931, grad_fn=<BinaryCrossEntropyBackward0>)"
            ]
          },
          "metadata": {},
          "execution_count": 9
        }
      ]
    },
    {
      "cell_type": "code",
      "source": [
        "W = torch.zeros((2, 1), requires_grad=True)\n",
        "b = torch.zeros(1, requires_grad=True)\n",
        "\n",
        "optimizer = optim.SGD([W,b], lr=1)\n",
        "\n",
        "nb_epoch=1000\n",
        "\n",
        "for epoch in range(nb_epoch+1):\n",
        "\n",
        "    h = torch.sigmoid(x_train.matmul(W)+b)\n",
        "    cost = F.binary_cross_entropy(h, y_train)\n",
        "\n",
        "    optimizer.zero_grad()\n",
        "    cost.backward()\n",
        "    optimizer.step()\n",
        "\n",
        "    if epoch % 100 == 0:\n",
        "        print('Epoch {:4d}/{} Cost: {:.6f}'.format(\n",
        "            epoch, nb_epoch, cost.item()\n",
        "        ))"
      ],
      "metadata": {
        "colab": {
          "base_uri": "https://localhost:8080/"
        },
        "id": "j4grZrgzDCtA",
        "outputId": "d0378fd7-dd46-43d0-db4f-6a69578e6966"
      },
      "execution_count": 12,
      "outputs": [
        {
          "output_type": "stream",
          "name": "stdout",
          "text": [
            "Epoch    0/1000 Cost: 0.693147\n",
            "Epoch  100/1000 Cost: 0.134722\n",
            "Epoch  200/1000 Cost: 0.080643\n",
            "Epoch  300/1000 Cost: 0.057900\n",
            "Epoch  400/1000 Cost: 0.045300\n",
            "Epoch  500/1000 Cost: 0.037261\n",
            "Epoch  600/1000 Cost: 0.031673\n",
            "Epoch  700/1000 Cost: 0.027556\n",
            "Epoch  800/1000 Cost: 0.024394\n",
            "Epoch  900/1000 Cost: 0.021888\n",
            "Epoch 1000/1000 Cost: 0.019852\n"
          ]
        }
      ]
    },
    {
      "cell_type": "code",
      "source": [
        "h = torch.sigmoid(x_train.matmul(W) + b)\n",
        "print(h)\n",
        "\n",
        "\n",
        "\n",
        "prediction = h >= torch.FloatTensor([0.5])\n",
        "print(prediction)"
      ],
      "metadata": {
        "colab": {
          "base_uri": "https://localhost:8080/"
        },
        "id": "yfcKy4YDD_6k",
        "outputId": "e875f8a4-e3c3-4b79-f8d3-ff6ef6bc258d"
      },
      "execution_count": 14,
      "outputs": [
        {
          "output_type": "stream",
          "name": "stdout",
          "text": [
            "tensor([[2.7648e-04],\n",
            "        [3.1608e-02],\n",
            "        [3.8977e-02],\n",
            "        [9.5622e-01],\n",
            "        [9.9823e-01],\n",
            "        [9.9969e-01]], grad_fn=<SigmoidBackward0>)\n",
            "tensor([[False],\n",
            "        [False],\n",
            "        [False],\n",
            "        [ True],\n",
            "        [ True],\n",
            "        [ True]])\n"
          ]
        }
      ]
    },
    {
      "cell_type": "code",
      "source": [
        "  #nn.module로 구현 \n",
        "\n",
        "  import torch \n",
        "  import torch.nn as nn \n",
        "  import torch.nn.functional as F\n",
        "\n",
        "torch.manual_seed(1)\n",
        "\n",
        "x_data = [[1, 2], [2, 3], [3, 1], [4, 3], [5, 3], [6, 2]]\n",
        "y_data = [[0], [0], [0], [1], [1], [1]]\n",
        "x_train = torch.FloatTensor(x_data)\n",
        "y_train = torch.FloatTensor(y_data)"
      ],
      "metadata": {
        "id": "i8iIBb1fEK2w"
      },
      "execution_count": 16,
      "outputs": []
    },
    {
      "cell_type": "code",
      "source": [
        "model = nn.Sequential(\n",
        "    nn.Linear(2,1),\n",
        "    nn.Sigmoid()\n",
        ")\n",
        "\n",
        "print(model(x_train))"
      ],
      "metadata": {
        "colab": {
          "base_uri": "https://localhost:8080/"
        },
        "id": "SHJk4-zaEzx0",
        "outputId": "86a7441f-255c-41b2-aea9-a159ceee7604"
      },
      "execution_count": 19,
      "outputs": [
        {
          "output_type": "stream",
          "name": "stdout",
          "text": [
            "tensor([[0.3600],\n",
            "        [0.2872],\n",
            "        [0.6801],\n",
            "        [0.4389],\n",
            "        [0.5216],\n",
            "        [0.7473]], grad_fn=<SigmoidBackward0>)\n"
          ]
        }
      ]
    },
    {
      "cell_type": "code",
      "source": [
        "optimizer = optim.SGD(model.parameters(), lr=1)\n",
        "\n",
        "nb_epochs = 1000\n",
        "for epoch in range(nb_epochs + 1):\n",
        "\n",
        "    # H(x) 계산\n",
        "    hypothesis = model(x_train)\n",
        "\n",
        "    # cost 계산\n",
        "    cost = F.binary_cross_entropy(hypothesis, y_train)\n",
        "\n",
        "    # cost로 H(x) 개선\n",
        "    optimizer.zero_grad()\n",
        "    cost.backward()\n",
        "    optimizer.step()\n",
        "\n",
        "    # 20번마다 로그 출력\n",
        "    if epoch % 10 == 0:\n",
        "        prediction = hypothesis >= torch.FloatTensor([0.5]) # 예측값이 0.5를 넘으면 True로 간주\n",
        "        correct_prediction = prediction.float() == y_train # 실제값과 일치하는 경우만 True로 간주\n",
        "        accuracy = correct_prediction.sum().item() / len(correct_prediction) # 정확도를 계산\n",
        "        print('Epoch {:4d}/{} Cost: {:.6f} Accuracy {:2.2f}%'.format( # 각 에포크마다 정확도를 출력\n",
        "            epoch, nb_epochs, cost.item(), accuracy * 100,\n",
        "        ))"
      ],
      "metadata": {
        "colab": {
          "base_uri": "https://localhost:8080/"
        },
        "id": "bIKfbl33FVDe",
        "outputId": "73504de1-83df-4ce8-eeb8-84ca706632cc"
      },
      "execution_count": 20,
      "outputs": [
        {
          "output_type": "stream",
          "name": "stdout",
          "text": [
            "Epoch    0/1000 Cost: 0.614994 Accuracy 66.67%\n",
            "Epoch   10/1000 Cost: 0.747550 Accuracy 83.33%\n",
            "Epoch   20/1000 Cost: 0.633216 Accuracy 83.33%\n",
            "Epoch   30/1000 Cost: 0.538123 Accuracy 83.33%\n",
            "Epoch   40/1000 Cost: 0.450406 Accuracy 83.33%\n",
            "Epoch   50/1000 Cost: 0.366382 Accuracy 83.33%\n",
            "Epoch   60/1000 Cost: 0.287368 Accuracy 83.33%\n",
            "Epoch   70/1000 Cost: 0.219288 Accuracy 83.33%\n",
            "Epoch   80/1000 Cost: 0.173225 Accuracy 100.00%\n",
            "Epoch   90/1000 Cost: 0.151674 Accuracy 100.00%\n",
            "Epoch  100/1000 Cost: 0.140280 Accuracy 100.00%\n",
            "Epoch  110/1000 Cost: 0.131002 Accuracy 100.00%\n",
            "Epoch  120/1000 Cost: 0.122903 Accuracy 100.00%\n",
            "Epoch  130/1000 Cost: 0.115765 Accuracy 100.00%\n",
            "Epoch  140/1000 Cost: 0.109426 Accuracy 100.00%\n",
            "Epoch  150/1000 Cost: 0.103760 Accuracy 100.00%\n",
            "Epoch  160/1000 Cost: 0.098664 Accuracy 100.00%\n",
            "Epoch  170/1000 Cost: 0.094056 Accuracy 100.00%\n",
            "Epoch  180/1000 Cost: 0.089870 Accuracy 100.00%\n",
            "Epoch  190/1000 Cost: 0.086050 Accuracy 100.00%\n",
            "Epoch  200/1000 Cost: 0.082549 Accuracy 100.00%\n",
            "Epoch  210/1000 Cost: 0.079328 Accuracy 100.00%\n",
            "Epoch  220/1000 Cost: 0.076356 Accuracy 100.00%\n",
            "Epoch  230/1000 Cost: 0.073604 Accuracy 100.00%\n",
            "Epoch  240/1000 Cost: 0.071048 Accuracy 100.00%\n",
            "Epoch  250/1000 Cost: 0.068668 Accuracy 100.00%\n",
            "Epoch  260/1000 Cost: 0.066446 Accuracy 100.00%\n",
            "Epoch  270/1000 Cost: 0.064367 Accuracy 100.00%\n",
            "Epoch  280/1000 Cost: 0.062417 Accuracy 100.00%\n",
            "Epoch  290/1000 Cost: 0.060584 Accuracy 100.00%\n",
            "Epoch  300/1000 Cost: 0.058858 Accuracy 100.00%\n",
            "Epoch  310/1000 Cost: 0.057231 Accuracy 100.00%\n",
            "Epoch  320/1000 Cost: 0.055692 Accuracy 100.00%\n",
            "Epoch  330/1000 Cost: 0.054236 Accuracy 100.00%\n",
            "Epoch  340/1000 Cost: 0.052856 Accuracy 100.00%\n",
            "Epoch  350/1000 Cost: 0.051546 Accuracy 100.00%\n",
            "Epoch  360/1000 Cost: 0.050301 Accuracy 100.00%\n",
            "Epoch  370/1000 Cost: 0.049115 Accuracy 100.00%\n",
            "Epoch  380/1000 Cost: 0.047986 Accuracy 100.00%\n",
            "Epoch  390/1000 Cost: 0.046908 Accuracy 100.00%\n",
            "Epoch  400/1000 Cost: 0.045878 Accuracy 100.00%\n",
            "Epoch  410/1000 Cost: 0.044893 Accuracy 100.00%\n",
            "Epoch  420/1000 Cost: 0.043951 Accuracy 100.00%\n",
            "Epoch  430/1000 Cost: 0.043048 Accuracy 100.00%\n",
            "Epoch  440/1000 Cost: 0.042182 Accuracy 100.00%\n",
            "Epoch  450/1000 Cost: 0.041351 Accuracy 100.00%\n",
            "Epoch  460/1000 Cost: 0.040552 Accuracy 100.00%\n",
            "Epoch  470/1000 Cost: 0.039784 Accuracy 100.00%\n",
            "Epoch  480/1000 Cost: 0.039045 Accuracy 100.00%\n",
            "Epoch  490/1000 Cost: 0.038334 Accuracy 100.00%\n",
            "Epoch  500/1000 Cost: 0.037649 Accuracy 100.00%\n",
            "Epoch  510/1000 Cost: 0.036987 Accuracy 100.00%\n",
            "Epoch  520/1000 Cost: 0.036349 Accuracy 100.00%\n",
            "Epoch  530/1000 Cost: 0.035734 Accuracy 100.00%\n",
            "Epoch  540/1000 Cost: 0.035138 Accuracy 100.00%\n",
            "Epoch  550/1000 Cost: 0.034563 Accuracy 100.00%\n",
            "Epoch  560/1000 Cost: 0.034006 Accuracy 100.00%\n",
            "Epoch  570/1000 Cost: 0.033468 Accuracy 100.00%\n",
            "Epoch  580/1000 Cost: 0.032946 Accuracy 100.00%\n",
            "Epoch  590/1000 Cost: 0.032441 Accuracy 100.00%\n",
            "Epoch  600/1000 Cost: 0.031951 Accuracy 100.00%\n",
            "Epoch  610/1000 Cost: 0.031476 Accuracy 100.00%\n",
            "Epoch  620/1000 Cost: 0.031014 Accuracy 100.00%\n",
            "Epoch  630/1000 Cost: 0.030567 Accuracy 100.00%\n",
            "Epoch  640/1000 Cost: 0.030132 Accuracy 100.00%\n",
            "Epoch  650/1000 Cost: 0.029710 Accuracy 100.00%\n",
            "Epoch  660/1000 Cost: 0.029299 Accuracy 100.00%\n",
            "Epoch  670/1000 Cost: 0.028900 Accuracy 100.00%\n",
            "Epoch  680/1000 Cost: 0.028512 Accuracy 100.00%\n",
            "Epoch  690/1000 Cost: 0.028134 Accuracy 100.00%\n",
            "Epoch  700/1000 Cost: 0.027766 Accuracy 100.00%\n",
            "Epoch  710/1000 Cost: 0.027407 Accuracy 100.00%\n",
            "Epoch  720/1000 Cost: 0.027058 Accuracy 100.00%\n",
            "Epoch  730/1000 Cost: 0.026718 Accuracy 100.00%\n",
            "Epoch  740/1000 Cost: 0.026386 Accuracy 100.00%\n",
            "Epoch  750/1000 Cost: 0.026063 Accuracy 100.00%\n",
            "Epoch  760/1000 Cost: 0.025747 Accuracy 100.00%\n",
            "Epoch  770/1000 Cost: 0.025439 Accuracy 100.00%\n",
            "Epoch  780/1000 Cost: 0.025138 Accuracy 100.00%\n",
            "Epoch  790/1000 Cost: 0.024845 Accuracy 100.00%\n",
            "Epoch  800/1000 Cost: 0.024558 Accuracy 100.00%\n",
            "Epoch  810/1000 Cost: 0.024278 Accuracy 100.00%\n",
            "Epoch  820/1000 Cost: 0.024004 Accuracy 100.00%\n",
            "Epoch  830/1000 Cost: 0.023737 Accuracy 100.00%\n",
            "Epoch  840/1000 Cost: 0.023475 Accuracy 100.00%\n",
            "Epoch  850/1000 Cost: 0.023219 Accuracy 100.00%\n",
            "Epoch  860/1000 Cost: 0.022969 Accuracy 100.00%\n",
            "Epoch  870/1000 Cost: 0.022724 Accuracy 100.00%\n",
            "Epoch  880/1000 Cost: 0.022484 Accuracy 100.00%\n",
            "Epoch  890/1000 Cost: 0.022250 Accuracy 100.00%\n",
            "Epoch  900/1000 Cost: 0.022020 Accuracy 100.00%\n",
            "Epoch  910/1000 Cost: 0.021795 Accuracy 100.00%\n",
            "Epoch  920/1000 Cost: 0.021574 Accuracy 100.00%\n",
            "Epoch  930/1000 Cost: 0.021358 Accuracy 100.00%\n",
            "Epoch  940/1000 Cost: 0.021147 Accuracy 100.00%\n",
            "Epoch  950/1000 Cost: 0.020939 Accuracy 100.00%\n",
            "Epoch  960/1000 Cost: 0.020736 Accuracy 100.00%\n",
            "Epoch  970/1000 Cost: 0.020536 Accuracy 100.00%\n",
            "Epoch  980/1000 Cost: 0.020340 Accuracy 100.00%\n",
            "Epoch  990/1000 Cost: 0.020148 Accuracy 100.00%\n",
            "Epoch 1000/1000 Cost: 0.019960 Accuracy 100.00%\n"
          ]
        }
      ]
    },
    {
      "cell_type": "code",
      "source": [
        "## Class로 구현하기 \n",
        "\n",
        "import torch\n",
        "import torch.nn as nn\n",
        "import torch.nn.functional as F\n",
        "import torch.optim as optim\n",
        "x_data = [[1, 2], [2, 3], [3, 1], [4, 3], [5, 3], [6, 2]]\n",
        "y_data = [[0], [0], [0], [1], [1], [1]]\n",
        "x_train = torch.FloatTensor(x_data)\n",
        "y_train = torch.FloatTensor(y_data)\n",
        "\n",
        "\n",
        "class BinaryClassifier(nn.Module):\n",
        "    def __init__(self):\n",
        "        super().__init__()\n",
        "        self.linear = nn.Linear(2,1)\n",
        "        self.sigmoid = nn.Sigmoid()\n",
        "\n",
        "\n",
        "    def forward(self,x):\n",
        "        return self.sigmoid(self.linear(x))\n",
        "\n",
        "\n",
        "\n",
        "model = BinaryClassifier()"
      ],
      "metadata": {
        "id": "GVasA4pcFhEN"
      },
      "execution_count": 40,
      "outputs": []
    },
    {
      "cell_type": "code",
      "source": [
        "print(list(model.parameters()))"
      ],
      "metadata": {
        "colab": {
          "base_uri": "https://localhost:8080/"
        },
        "id": "BFvQepCmHSEd",
        "outputId": "ecbc124e-7b20-4ff2-fc89-0caac4c06961"
      },
      "execution_count": 41,
      "outputs": [
        {
          "output_type": "stream",
          "name": "stdout",
          "text": [
            "[Parameter containing:\n",
            "tensor([[ 0.3843, -0.6912]], requires_grad=True), Parameter containing:\n",
            "tensor([0.4383], requires_grad=True)]\n"
          ]
        }
      ]
    },
    {
      "cell_type": "code",
      "source": [
        "optimizer = optim.SGD(model.parameters(), lr =1)\n",
        "\n",
        "nb_epochs = 1000\n",
        "for epoch in range(nb_epochs + 1):\n",
        "\n",
        "    # H(x) 계산\n",
        "    hypothesis = model(x_train)\n",
        "\n",
        "    # cost 계산\n",
        "    cost = F.binary_cross_entropy(hypothesis, y_train)\n",
        "\n",
        "    # cost로 H(x) 개선\n",
        "    optimizer.zero_grad()\n",
        "    cost.backward()\n",
        "    optimizer.step()\n",
        "\n",
        "    # 20번마다 로그 출력\n",
        "    if epoch % 10 == 0:\n",
        "        prediction = hypothesis >= torch.FloatTensor([0.5]) # 예측값이 0.5를 넘으면 True로 간주\n",
        "        correct_prediction = prediction.float() == y_train # 실제값과 일치하는 경우만 True로 간주\n",
        "        accuracy = correct_prediction.sum().item() / len(correct_prediction) # 정확도를 계산\n",
        "        print('Epoch {:4d}/{} Cost: {:.6f} Accuracy {:2.2f}%'.format( # 각 에포크마다 정확도를 출력\n",
        "            epoch, nb_epochs, cost.item(), accuracy * 100,\n",
        "        ))"
      ],
      "metadata": {
        "colab": {
          "base_uri": "https://localhost:8080/"
        },
        "id": "trKUKlDYGhH6",
        "outputId": "2fdeb58e-faa6-4d74-9a7f-d8900639b7cf"
      },
      "execution_count": 42,
      "outputs": [
        {
          "output_type": "stream",
          "name": "stdout",
          "text": [
            "Epoch    0/1000 Cost: 0.595946 Accuracy 66.67%\n",
            "Epoch   10/1000 Cost: 0.707535 Accuracy 83.33%\n",
            "Epoch   20/1000 Cost: 0.638608 Accuracy 83.33%\n",
            "Epoch   30/1000 Cost: 0.540139 Accuracy 83.33%\n",
            "Epoch   40/1000 Cost: 0.452255 Accuracy 83.33%\n",
            "Epoch   50/1000 Cost: 0.368146 Accuracy 83.33%\n",
            "Epoch   60/1000 Cost: 0.288984 Accuracy 83.33%\n",
            "Epoch   70/1000 Cost: 0.220561 Accuracy 83.33%\n",
            "Epoch   80/1000 Cost: 0.173926 Accuracy 100.00%\n",
            "Epoch   90/1000 Cost: 0.151975 Accuracy 100.00%\n",
            "Epoch  100/1000 Cost: 0.140495 Accuracy 100.00%\n",
            "Epoch  110/1000 Cost: 0.131188 Accuracy 100.00%\n",
            "Epoch  120/1000 Cost: 0.123066 Accuracy 100.00%\n",
            "Epoch  130/1000 Cost: 0.115910 Accuracy 100.00%\n",
            "Epoch  140/1000 Cost: 0.109555 Accuracy 100.00%\n",
            "Epoch  150/1000 Cost: 0.103875 Accuracy 100.00%\n",
            "Epoch  160/1000 Cost: 0.098768 Accuracy 100.00%\n",
            "Epoch  170/1000 Cost: 0.094151 Accuracy 100.00%\n",
            "Epoch  180/1000 Cost: 0.089956 Accuracy 100.00%\n",
            "Epoch  190/1000 Cost: 0.086128 Accuracy 100.00%\n",
            "Epoch  200/1000 Cost: 0.082621 Accuracy 100.00%\n",
            "Epoch  210/1000 Cost: 0.079395 Accuracy 100.00%\n",
            "Epoch  220/1000 Cost: 0.076417 Accuracy 100.00%\n",
            "Epoch  230/1000 Cost: 0.073661 Accuracy 100.00%\n",
            "Epoch  240/1000 Cost: 0.071101 Accuracy 100.00%\n",
            "Epoch  250/1000 Cost: 0.068717 Accuracy 100.00%\n",
            "Epoch  260/1000 Cost: 0.066492 Accuracy 100.00%\n",
            "Epoch  270/1000 Cost: 0.064410 Accuracy 100.00%\n",
            "Epoch  280/1000 Cost: 0.062457 Accuracy 100.00%\n",
            "Epoch  290/1000 Cost: 0.060622 Accuracy 100.00%\n",
            "Epoch  300/1000 Cost: 0.058894 Accuracy 100.00%\n",
            "Epoch  310/1000 Cost: 0.057265 Accuracy 100.00%\n",
            "Epoch  320/1000 Cost: 0.055725 Accuracy 100.00%\n",
            "Epoch  330/1000 Cost: 0.054267 Accuracy 100.00%\n",
            "Epoch  340/1000 Cost: 0.052885 Accuracy 100.00%\n",
            "Epoch  350/1000 Cost: 0.051574 Accuracy 100.00%\n",
            "Epoch  360/1000 Cost: 0.050327 Accuracy 100.00%\n",
            "Epoch  370/1000 Cost: 0.049140 Accuracy 100.00%\n",
            "Epoch  380/1000 Cost: 0.048009 Accuracy 100.00%\n",
            "Epoch  390/1000 Cost: 0.046930 Accuracy 100.00%\n",
            "Epoch  400/1000 Cost: 0.045899 Accuracy 100.00%\n",
            "Epoch  410/1000 Cost: 0.044914 Accuracy 100.00%\n",
            "Epoch  420/1000 Cost: 0.043971 Accuracy 100.00%\n",
            "Epoch  430/1000 Cost: 0.043067 Accuracy 100.00%\n",
            "Epoch  440/1000 Cost: 0.042200 Accuracy 100.00%\n",
            "Epoch  450/1000 Cost: 0.041368 Accuracy 100.00%\n",
            "Epoch  460/1000 Cost: 0.040569 Accuracy 100.00%\n",
            "Epoch  470/1000 Cost: 0.039800 Accuracy 100.00%\n",
            "Epoch  480/1000 Cost: 0.039061 Accuracy 100.00%\n",
            "Epoch  490/1000 Cost: 0.038349 Accuracy 100.00%\n",
            "Epoch  500/1000 Cost: 0.037663 Accuracy 100.00%\n",
            "Epoch  510/1000 Cost: 0.037001 Accuracy 100.00%\n",
            "Epoch  520/1000 Cost: 0.036363 Accuracy 100.00%\n",
            "Epoch  530/1000 Cost: 0.035746 Accuracy 100.00%\n",
            "Epoch  540/1000 Cost: 0.035151 Accuracy 100.00%\n",
            "Epoch  550/1000 Cost: 0.034575 Accuracy 100.00%\n",
            "Epoch  560/1000 Cost: 0.034018 Accuracy 100.00%\n",
            "Epoch  570/1000 Cost: 0.033479 Accuracy 100.00%\n",
            "Epoch  580/1000 Cost: 0.032957 Accuracy 100.00%\n",
            "Epoch  590/1000 Cost: 0.032451 Accuracy 100.00%\n",
            "Epoch  600/1000 Cost: 0.031961 Accuracy 100.00%\n",
            "Epoch  610/1000 Cost: 0.031486 Accuracy 100.00%\n",
            "Epoch  620/1000 Cost: 0.031024 Accuracy 100.00%\n",
            "Epoch  630/1000 Cost: 0.030576 Accuracy 100.00%\n",
            "Epoch  640/1000 Cost: 0.030141 Accuracy 100.00%\n",
            "Epoch  650/1000 Cost: 0.029719 Accuracy 100.00%\n",
            "Epoch  660/1000 Cost: 0.029308 Accuracy 100.00%\n",
            "Epoch  670/1000 Cost: 0.028908 Accuracy 100.00%\n",
            "Epoch  680/1000 Cost: 0.028520 Accuracy 100.00%\n",
            "Epoch  690/1000 Cost: 0.028142 Accuracy 100.00%\n",
            "Epoch  700/1000 Cost: 0.027773 Accuracy 100.00%\n",
            "Epoch  710/1000 Cost: 0.027415 Accuracy 100.00%\n",
            "Epoch  720/1000 Cost: 0.027065 Accuracy 100.00%\n",
            "Epoch  730/1000 Cost: 0.026725 Accuracy 100.00%\n",
            "Epoch  740/1000 Cost: 0.026393 Accuracy 100.00%\n",
            "Epoch  750/1000 Cost: 0.026069 Accuracy 100.00%\n",
            "Epoch  760/1000 Cost: 0.025754 Accuracy 100.00%\n",
            "Epoch  770/1000 Cost: 0.025445 Accuracy 100.00%\n",
            "Epoch  780/1000 Cost: 0.025145 Accuracy 100.00%\n",
            "Epoch  790/1000 Cost: 0.024851 Accuracy 100.00%\n",
            "Epoch  800/1000 Cost: 0.024564 Accuracy 100.00%\n",
            "Epoch  810/1000 Cost: 0.024284 Accuracy 100.00%\n",
            "Epoch  820/1000 Cost: 0.024010 Accuracy 100.00%\n",
            "Epoch  830/1000 Cost: 0.023742 Accuracy 100.00%\n",
            "Epoch  840/1000 Cost: 0.023481 Accuracy 100.00%\n",
            "Epoch  850/1000 Cost: 0.023225 Accuracy 100.00%\n",
            "Epoch  860/1000 Cost: 0.022974 Accuracy 100.00%\n",
            "Epoch  870/1000 Cost: 0.022729 Accuracy 100.00%\n",
            "Epoch  880/1000 Cost: 0.022489 Accuracy 100.00%\n",
            "Epoch  890/1000 Cost: 0.022255 Accuracy 100.00%\n",
            "Epoch  900/1000 Cost: 0.022025 Accuracy 100.00%\n",
            "Epoch  910/1000 Cost: 0.021799 Accuracy 100.00%\n",
            "Epoch  920/1000 Cost: 0.021579 Accuracy 100.00%\n",
            "Epoch  930/1000 Cost: 0.021363 Accuracy 100.00%\n",
            "Epoch  940/1000 Cost: 0.021151 Accuracy 100.00%\n",
            "Epoch  950/1000 Cost: 0.020943 Accuracy 100.00%\n",
            "Epoch  960/1000 Cost: 0.020740 Accuracy 100.00%\n",
            "Epoch  970/1000 Cost: 0.020540 Accuracy 100.00%\n",
            "Epoch  980/1000 Cost: 0.020345 Accuracy 100.00%\n",
            "Epoch  990/1000 Cost: 0.020153 Accuracy 100.00%\n",
            "Epoch 1000/1000 Cost: 0.019964 Accuracy 100.00%\n"
          ]
        }
      ]
    },
    {
      "cell_type": "code",
      "source": [],
      "metadata": {
        "id": "Nw7KL9OFG-Wo"
      },
      "execution_count": null,
      "outputs": []
    }
  ]
}