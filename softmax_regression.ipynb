{
  "nbformat": 4,
  "nbformat_minor": 0,
  "metadata": {
    "colab": {
      "provenance": [],
      "authorship_tag": "ABX9TyOzaPTC/dtb5TLs7eDpyIHY",
      "include_colab_link": true
    },
    "kernelspec": {
      "name": "python3",
      "display_name": "Python 3"
    },
    "language_info": {
      "name": "python"
    },
    "accelerator": "GPU",
    "gpuClass": "premium"
  },
  "cells": [
    {
      "cell_type": "markdown",
      "metadata": {
        "id": "view-in-github",
        "colab_type": "text"
      },
      "source": [
        "<a href=\"https://colab.research.google.com/github/kimtomato/torch_example/blob/main/softmax_regression.ipynb\" target=\"_parent\"><img src=\"https://colab.research.google.com/assets/colab-badge.svg\" alt=\"Open In Colab\"/></a>"
      ]
    },
    {
      "cell_type": "code",
      "execution_count": null,
      "metadata": {
        "colab": {
          "base_uri": "https://localhost:8080/"
        },
        "id": "C7o2FmGXIWp7",
        "outputId": "2ba07d96-6ce7-468c-8073-65e0d70b7f7c"
      },
      "outputs": [
        {
          "output_type": "execute_result",
          "data": {
            "text/plain": [
              "<torch._C.Generator at 0x7f9e92e94510>"
            ]
          },
          "metadata": {},
          "execution_count": 1
        }
      ],
      "source": [
        "import torch \n",
        "import torch.nn.functional as F\n",
        "\n",
        "torch.manual_seed(1)"
      ]
    },
    {
      "cell_type": "code",
      "source": [
        "#low-level 구현\n",
        "\n",
        "z = torch.FloatTensor([1,2,3])\n",
        "\n",
        "h = F.softmax(z, dim=0)"
      ],
      "metadata": {
        "id": "5SOIxJAhe_Od"
      },
      "execution_count": null,
      "outputs": []
    },
    {
      "cell_type": "code",
      "source": [
        "print(h)\n",
        "print(h.sum())"
      ],
      "metadata": {
        "colab": {
          "base_uri": "https://localhost:8080/"
        },
        "id": "UVbalfFNfWqg",
        "outputId": "0ffe3cee-6bf9-4bb4-c865-ccd276a54bbf"
      },
      "execution_count": null,
      "outputs": [
        {
          "output_type": "stream",
          "name": "stdout",
          "text": [
            "tensor([0.0900, 0.2447, 0.6652])\n",
            "tensor(1.)\n"
          ]
        }
      ]
    },
    {
      "cell_type": "code",
      "source": [
        "#cost function 구현 \n",
        "z = torch.rand(3,5, requires_grad=True)\n",
        "\n",
        "h = F.softmax(z,dim=1) #dim=1은 두번재 차원에 대해 softmax를 적용한다는 의미 \n",
        "print(h)"
      ],
      "metadata": {
        "colab": {
          "base_uri": "https://localhost:8080/"
        },
        "id": "TRG1if1RfX_C",
        "outputId": "a3191de1-ae02-4603-f406-5251b13cd514"
      },
      "execution_count": null,
      "outputs": [
        {
          "output_type": "stream",
          "name": "stdout",
          "text": [
            "tensor([[0.2645, 0.1639, 0.1855, 0.2585, 0.1277],\n",
            "        [0.2430, 0.1624, 0.2322, 0.1930, 0.1694],\n",
            "        [0.2226, 0.1986, 0.2326, 0.1594, 0.1868]], grad_fn=<SoftmaxBackward0>)\n"
          ]
        }
      ]
    },
    {
      "cell_type": "code",
      "source": [
        "y = torch.randint(5,(3,)).long()\n",
        "print(y)\n",
        "\n",
        "#one-hot encoding\n",
        "\n",
        "y_one_hot = torch.zeros_like(h)\n",
        "\n",
        "\n",
        "#y에 1차원 추가후 해당 인자에 위치에 숫자 1을 넣도록, 첫번재 인자는 dim=1에 대해 scatter를 수행하라는 의미 \n",
        "y_one_hot.scatter_(1,y.unsqueeze(1),1)\n",
        "print(y_one_hot)"
      ],
      "metadata": {
        "colab": {
          "base_uri": "https://localhost:8080/"
        },
        "id": "YmLiC6XQgyh9",
        "outputId": "126920ee-657b-4ae4-adc6-1d5dd8f68ca1"
      },
      "execution_count": null,
      "outputs": [
        {
          "output_type": "stream",
          "name": "stdout",
          "text": [
            "tensor([2, 1, 0])\n",
            "tensor([[0., 0., 1., 0., 0.],\n",
            "        [0., 1., 0., 0., 0.],\n",
            "        [1., 0., 0., 0., 0.]])\n"
          ]
        }
      ]
    },
    {
      "cell_type": "code",
      "source": [
        "#cost\n",
        "cost = (y_one_hot * -torch.log(h)).sum(dim=1).mean()\n",
        "print(cost)"
      ],
      "metadata": {
        "colab": {
          "base_uri": "https://localhost:8080/"
        },
        "id": "EuNcFXeEhNUK",
        "outputId": "7f8ada9b-c571-4253-e361-66916b00eaf5"
      },
      "execution_count": null,
      "outputs": [
        {
          "output_type": "stream",
          "name": "stdout",
          "text": [
            "tensor(1.6682, grad_fn=<MeanBackward0>)\n"
          ]
        }
      ]
    },
    {
      "cell_type": "code",
      "source": [
        "#high level 구현 \n",
        "F.log_softmax(z,dim=1) #torch.log(F.softmax(z, dim=1)) 과 동일 "
      ],
      "metadata": {
        "colab": {
          "base_uri": "https://localhost:8080/"
        },
        "id": "vn2LIEx-jP96",
        "outputId": "ca6ed822-1215-403f-eef9-34908f312289"
      },
      "execution_count": null,
      "outputs": [
        {
          "output_type": "execute_result",
          "data": {
            "text/plain": [
              "tensor([[-1.3301, -1.8084, -1.6846, -1.3530, -2.0584],\n",
              "        [-1.4147, -1.8174, -1.4602, -1.6450, -1.7758],\n",
              "        [-1.5025, -1.6165, -1.4586, -1.8360, -1.6776]],\n",
              "       grad_fn=<LogSoftmaxBackward0>)"
            ]
          },
          "metadata": {},
          "execution_count": 10
        }
      ]
    },
    {
      "cell_type": "code",
      "source": [
        "F.nll_loss(F.log_softmax(z,dim=1),y)    #-> one hot vector 필요없음 \n",
        "#(y_one_hot * -torch.log(F.softmax(z, dim=1))).sum(dim=1).mean()\n",
        "#(y_one_hot * - F.log_softmax(z, dim=1)).sum(dim=1).mean() 와 동일"
      ],
      "metadata": {
        "colab": {
          "base_uri": "https://localhost:8080/"
        },
        "id": "giO1xVvkjgoO",
        "outputId": "ba169ae0-a540-4a71-e14f-f94b25296068"
      },
      "execution_count": null,
      "outputs": [
        {
          "output_type": "execute_result",
          "data": {
            "text/plain": [
              "tensor(1.6682, grad_fn=<NllLossBackward0>)"
            ]
          },
          "metadata": {},
          "execution_count": 12
        }
      ]
    },
    {
      "cell_type": "code",
      "source": [
        "#F.cross_entropy는 F.log_softmax + F.nll_loss\n",
        "\n",
        "F.cross_entropy(z,y)"
      ],
      "metadata": {
        "colab": {
          "base_uri": "https://localhost:8080/"
        },
        "id": "ra_ZcO-Pj1dH",
        "outputId": "d27f9d80-4ec9-4396-b3e3-e399a1d6675c"
      },
      "execution_count": null,
      "outputs": [
        {
          "output_type": "execute_result",
          "data": {
            "text/plain": [
              "tensor(1.6682, grad_fn=<NllLossBackward0>)"
            ]
          },
          "metadata": {},
          "execution_count": 13
        }
      ]
    },
    {
      "cell_type": "markdown",
      "source": [
        "###softmax Regression구현하기 "
      ],
      "metadata": {
        "id": "WaA1hr4EkQYM"
      }
    },
    {
      "cell_type": "code",
      "source": [
        "## class로 구현 \n",
        "x_train = [[1, 2, 1, 1],\n",
        "           [2, 1, 3, 2],\n",
        "           [3, 1, 3, 4],\n",
        "           [4, 1, 5, 5],\n",
        "           [1, 7, 5, 5],\n",
        "           [1, 2, 5, 6],\n",
        "           [1, 6, 6, 6],\n",
        "           [1, 7, 7, 7]]\n",
        "y_train = [2, 2, 2, 1, 1, 1, 0, 0]\n",
        "x_train = torch.FloatTensor(x_train)\n",
        "y_train = torch.LongTensor(y_train)\n",
        "\n",
        "class SoftmaxRegression(torch.nn.Module):\n",
        "    def __init__(self):\n",
        "        super().__init__()\n",
        "        self.linear = torch.nn.Linear(4,3)\n",
        "\n",
        "    def forward(self,x):\n",
        "        return self.linear(x)\n",
        "\n",
        "model = SoftmaxRegression()\n",
        "\n",
        "optimizer = torch.optim.SGD(model.parameters(), lr=0.01)\n",
        "\n",
        "nb_epochs = 1000\n",
        "for epoch in range(nb_epochs + 1):\n",
        "\n",
        "    h = model(x_train)\n",
        "    cost = F.cross_entropy(h,y_train)\n",
        "\n",
        "    optimizer.zero_grad()\n",
        "    cost.backward()\n",
        "    optimizer.step()\n",
        "\n",
        "    if epoch % 100 == 0:\n",
        "        print('Epoch {:4d}/{} Cost: {:.6f}'.format(\n",
        "            epoch, nb_epochs, cost.item()\n",
        "        ))"
      ],
      "metadata": {
        "colab": {
          "base_uri": "https://localhost:8080/"
        },
        "id": "s1SmH9FckWIW",
        "outputId": "0cace486-0425-490c-f8b0-bdf7f7a354a5"
      },
      "execution_count": null,
      "outputs": [
        {
          "output_type": "stream",
          "name": "stdout",
          "text": [
            "Epoch    0/1000 Cost: 1.648873\n",
            "Epoch  100/1000 Cost: 0.857335\n",
            "Epoch  200/1000 Cost: 0.778282\n",
            "Epoch  300/1000 Cost: 0.722384\n",
            "Epoch  400/1000 Cost: 0.680598\n",
            "Epoch  500/1000 Cost: 0.648082\n",
            "Epoch  600/1000 Cost: 0.621954\n",
            "Epoch  700/1000 Cost: 0.600391\n",
            "Epoch  800/1000 Cost: 0.582189\n",
            "Epoch  900/1000 Cost: 0.566527\n",
            "Epoch 1000/1000 Cost: 0.552827\n"
          ]
        }
      ]
    },
    {
      "cell_type": "markdown",
      "source": [
        "### Softmax를 이용해 MNIST 데이터 분류하기 "
      ],
      "metadata": {
        "id": "V5cFOA12mZv6"
      }
    },
    {
      "cell_type": "code",
      "source": [
        "#MNIST : 28x28 pixel 데이터셋 =728의 원소를 가진 벡터 = 784개의 특성을 가진 샘플 \n",
        "import torch\n",
        "import torch.nn as nn\n",
        "import torchvision.datasets as dsets\n",
        "import torchvision.transforms as transforms\n",
        "from torch.utils.data import DataLoader\n",
        "import matplotlib.pyplot as plt\n",
        "import random "
      ],
      "metadata": {
        "id": "amP3FLJPmfpT"
      },
      "execution_count": 1,
      "outputs": []
    },
    {
      "cell_type": "code",
      "source": [
        "USE_CUDA = torch.cuda.is_available()\n",
        "\n",
        "device = torch.device('cuda' if USE_CUDA else \"cpu\")\n",
        "print(device)"
      ],
      "metadata": {
        "colab": {
          "base_uri": "https://localhost:8080/"
        },
        "id": "reIaxEDkYiVx",
        "outputId": "593f52d8-ca1a-4eaa-bd00-1ed6bdaaccd1"
      },
      "execution_count": 2,
      "outputs": [
        {
          "output_type": "stream",
          "name": "stdout",
          "text": [
            "cuda\n"
          ]
        }
      ]
    },
    {
      "cell_type": "code",
      "source": [
        "random.seed(777)\n",
        "torch.manual_seed(777)\n",
        "if device == 'cuda':\n",
        "    torch.cuda.manual_seed_all(777)\n",
        "\n",
        "#hyperparameter \n",
        "training_epochs =15\n",
        "batch_size =100\n"
      ],
      "metadata": {
        "id": "YwlkddvlZSAY"
      },
      "execution_count": 3,
      "outputs": []
    },
    {
      "cell_type": "code",
      "source": [
        "#data 불러오기 \n",
        "\n",
        "#torchvision.datasets.dsets.MNIST\n",
        "#train을 True로 주면 훈련데이터 리턴, False로 주면 테스트 데이터 리턴 \n",
        "#transform : 현재 데이터를 파이토치 텐서로 변환 \n",
        "\n",
        "mnist_train = dsets.MNIST(root='MNIST_data/', train=True, transform=transforms.ToTensor(),\n",
        "                          download=True)\n",
        "\n",
        "mnist_test = dsets.MNIST(root='MNIST_data/', train =False, transform=transforms.ToTensor(), download=True)"
      ],
      "metadata": {
        "id": "Fnb9nLlCaJwE"
      },
      "execution_count": 7,
      "outputs": []
    },
    {
      "cell_type": "code",
      "source": [
        "#DataLoader를 이용해 다운로드 받은 데이터 로드\n",
        "#drop_last : 마지막 배치를 버림 , 마지막 배치사이즈의 경우 \n",
        "#다른 배치보다 개수가 적어 경사하강법 사용시 상대적으로 과적합되는 현상이 있을수 있는데 그런 현상을 막아줌 \n",
        "data_loader = DataLoader(dataset=mnist_train, batch_size=batch_size,shuffle=True,\n",
        "                         drop_last=True)"
      ],
      "metadata": {
        "id": "iDeDI-ZIazPH"
      },
      "execution_count": 10,
      "outputs": []
    },
    {
      "cell_type": "code",
      "source": [
        "#연산에 GPU 사용시 to() 함수를 이용하여 지정, to() 함수는 모델의 매개변수를 지정한 장치의 메모리로 보냄 \n",
        "\n",
        "linear = nn.Linear(784, 10, bias=True).to(device)\n",
        "\n",
        "criterion = nn.CrossEntropyLoss().to(device)\n",
        "optimizer = torch.optim.SGD(linear.parameters(), lr=0.1)\n"
      ],
      "metadata": {
        "id": "o7lXKYQ-bqhD"
      },
      "execution_count": 12,
      "outputs": []
    },
    {
      "cell_type": "code",
      "source": [
        "for epoch in range(training_epochs+1):\n",
        "\n",
        "    \n",
        "    avg_cost=0\n",
        "    total_batch = len(data_loader)\n",
        "\n",
        "    for X,Y in data_loader:\n",
        "        #batch 크기 100 이므로 X는 100,784의 텐서 \n",
        "        X = X.view(-1,28*28).to(device)\n",
        "        #0~9 사이의 정수 \n",
        "        Y = Y.to(device)\n",
        "\n",
        "        optimizer.zero_grad()\n",
        "        pred = linear(X)\n",
        "        cost = criterion(pred,Y)\n",
        "        cost.backward()\n",
        "        optimizer.step()\n",
        "\n",
        "        avg_cost += cost/total_batch\n",
        "\n",
        "    print('Epoch:', '%04d' % (epoch + 1), 'cost =', '{:.9f}'.format(avg_cost))\n",
        "\n",
        "print('Learning finished')"
      ],
      "metadata": {
        "colab": {
          "base_uri": "https://localhost:8080/"
        },
        "id": "mJIbUn7hcUm1",
        "outputId": "27bbc13f-f9b2-4445-ec69-1c87c2aff0ca"
      },
      "execution_count": 15,
      "outputs": [
        {
          "output_type": "stream",
          "name": "stdout",
          "text": [
            "Epoch: 0001 cost = 0.535899699\n",
            "Epoch: 0002 cost = 0.359200478\n",
            "Epoch: 0003 cost = 0.331210256\n",
            "Epoch: 0004 cost = 0.316642910\n",
            "Epoch: 0005 cost = 0.306912184\n",
            "Epoch: 0006 cost = 0.300341666\n",
            "Epoch: 0007 cost = 0.295203745\n",
            "Epoch: 0008 cost = 0.290808380\n",
            "Epoch: 0009 cost = 0.287419230\n",
            "Epoch: 0010 cost = 0.284378767\n",
            "Epoch: 0011 cost = 0.281997472\n",
            "Epoch: 0012 cost = 0.279780537\n",
            "Epoch: 0013 cost = 0.277854115\n",
            "Epoch: 0014 cost = 0.276023209\n",
            "Epoch: 0015 cost = 0.274494976\n",
            "Epoch: 0016 cost = 0.272993058\n",
            "Learning finished\n"
          ]
        }
      ]
    },
    {
      "cell_type": "code",
      "source": [
        "#테스트 데이터를 이용하여 모델 테스트 \n",
        "#torch.no_grad() 사용시 gradient 계산 수행 X\n",
        "\n",
        "with torch.no_grad():\n",
        "    X_test = mnist_test.test_data.view(-1,28*28).float().to(device)\n",
        "    Y_test = mnist_test.test_labels.to(device)\n",
        "\n",
        "    prediction = linear(X_test)\n",
        "    correct_prediction = torch.argmax(prediction, 1) == Y_test\n",
        "    accuracy = correct_prediction.float().mean()\n",
        "    print('Accuracy:', accuracy.item())\n",
        "\n",
        "    # MNIST 테스트 데이터에서 무작위로 하나를 뽑아서 예측을 해본다\n",
        "    r = random.randint(0, len(mnist_test) - 1)\n",
        "    X_single_data = mnist_test.test_data[r:r + 1].view(-1, 28 * 28).float().to(device)\n",
        "    Y_single_data = mnist_test.test_labels[r:r + 1].to(device)\n",
        "\n",
        "    print('Label: ', Y_single_data.item())\n",
        "    single_prediction = linear(X_single_data)\n",
        "    print('Prediction: ', torch.argmax(single_prediction, 1).item())\n",
        "\n",
        "    plt.imshow(mnist_test.test_data[r:r + 1].view(28, 28), cmap='Greys', interpolation='nearest')\n",
        "    plt.show()\n"
      ],
      "metadata": {
        "colab": {
          "base_uri": "https://localhost:8080/",
          "height": 317
        },
        "id": "c4BZmmgJdtW8",
        "outputId": "23b441da-1acc-48a1-d4dd-2804a9d0c475"
      },
      "execution_count": 20,
      "outputs": [
        {
          "output_type": "stream",
          "name": "stdout",
          "text": [
            "Accuracy: 0.8873999714851379\n",
            "Label:  7\n",
            "Prediction:  7\n"
          ]
        },
        {
          "output_type": "display_data",
          "data": {
            "text/plain": [
              "<Figure size 432x288 with 1 Axes>"
            ],
            "image/png": "[encoded data removed]"
          },
          "metadata": {
            "needs_background": "light"
          }
        }
      ]
    },
    {
      "cell_type": "code",
      "source": [],
      "metadata": {
        "id": "-Ux9Ii89efAG"
      },
      "execution_count": null,
      "outputs": []
    }
  ]
}